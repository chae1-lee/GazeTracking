{
 "cells": [
  {
   "cell_type": "code",
   "execution_count": 1,
   "id": "33bdd48f",
   "metadata": {},
   "outputs": [],
   "source": [
    "import os\n",
    "import cv2\n",
    "import numpy as np\n",
    "import pandas as pd\n",
    "import scipy.io as sio"
   ]
  },
  {
   "cell_type": "code",
   "execution_count": 2,
   "id": "6198a4a1",
   "metadata": {},
   "outputs": [],
   "source": [
    "root = \"../../data/MPIIFaceGaze/\""
   ]
  },
  {
   "cell_type": "markdown",
   "id": "b451acd7",
   "metadata": {},
   "source": [
    "# MPII Face Gaze"
   ]
  },
  {
   "cell_type": "markdown",
   "id": "1ff687fc",
   "metadata": {
    "heading_collapsed": true
   },
   "source": [
    "### Compare with \"MPII Face Gaze - p##\" and \"MPIIGaze - Evaluation Subset - sample list for eye image\""
   ]
  },
  {
   "cell_type": "code",
   "execution_count": 2,
   "id": "6857cb5f",
   "metadata": {
    "hidden": true
   },
   "outputs": [],
   "source": [
    "root_face = \"../../data/MPIIFaceGaze/\"\n",
    "root_gaze = \"../../data/MPIIGaze/Evaluation Subset/sample list for eye image/\"\n",
    "\n",
    "list_gaze_anno_path = [root_gaze+x for x in os.listdir(root_gaze) if os.path.isfile(root_gaze+x)]\n",
    "list_face_anno_path = [root_face + list_gaze_anno_path[i].split('/')[-1][:3] + '/' + list_gaze_anno_path[i].split('/')[-1] for i in range(len(list_gaze_anno_path))]"
   ]
  },
  {
   "cell_type": "code",
   "execution_count": 9,
   "id": "95648b79",
   "metadata": {
    "hidden": true
   },
   "outputs": [
    {
     "name": "stdout",
     "output_type": "stream",
     "text": [
      "../../data/MPIIGaze/Evaluation Subset/sample list for eye image/p00.txt \t ../../data/MPIIFaceGaze/p00/p00.txt\n",
      "../../data/MPIIGaze/Evaluation Subset/sample list for eye image/p01.txt \t ../../data/MPIIFaceGaze/p01/p01.txt\n",
      "../../data/MPIIGaze/Evaluation Subset/sample list for eye image/p02.txt \t ../../data/MPIIFaceGaze/p02/p02.txt\n",
      "../../data/MPIIGaze/Evaluation Subset/sample list for eye image/p03.txt \t ../../data/MPIIFaceGaze/p03/p03.txt\n",
      "../../data/MPIIGaze/Evaluation Subset/sample list for eye image/p04.txt \t ../../data/MPIIFaceGaze/p04/p04.txt\n",
      "../../data/MPIIGaze/Evaluation Subset/sample list for eye image/p05.txt \t ../../data/MPIIFaceGaze/p05/p05.txt\n",
      "../../data/MPIIGaze/Evaluation Subset/sample list for eye image/p06.txt \t ../../data/MPIIFaceGaze/p06/p06.txt\n",
      "../../data/MPIIGaze/Evaluation Subset/sample list for eye image/p07.txt \t ../../data/MPIIFaceGaze/p07/p07.txt\n",
      "../../data/MPIIGaze/Evaluation Subset/sample list for eye image/p08.txt \t ../../data/MPIIFaceGaze/p08/p08.txt\n",
      "../../data/MPIIGaze/Evaluation Subset/sample list for eye image/p09.txt \t ../../data/MPIIFaceGaze/p09/p09.txt\n",
      "../../data/MPIIGaze/Evaluation Subset/sample list for eye image/p10.txt \t ../../data/MPIIFaceGaze/p10/p10.txt\n",
      "../../data/MPIIGaze/Evaluation Subset/sample list for eye image/p11.txt \t ../../data/MPIIFaceGaze/p11/p11.txt\n",
      "../../data/MPIIGaze/Evaluation Subset/sample list for eye image/p12.txt \t ../../data/MPIIFaceGaze/p12/p12.txt\n",
      "../../data/MPIIGaze/Evaluation Subset/sample list for eye image/p13.txt \t ../../data/MPIIFaceGaze/p13/p13.txt\n",
      "../../data/MPIIGaze/Evaluation Subset/sample list for eye image/p14.txt \t ../../data/MPIIFaceGaze/p14/p14.txt\n"
     ]
    }
   ],
   "source": [
    "for content in zip(list_gaze_anno_path, list_face_anno_path):\n",
    "    print(content[0], '\\t', content[1])"
   ]
  },
  {
   "cell_type": "code",
   "execution_count": 28,
   "id": "6d487f16",
   "metadata": {
    "hidden": true
   },
   "outputs": [],
   "source": [
    "gaze_anno = []\n",
    "face_anno = []\n",
    "\n",
    "for g_path, f_path in zip(list_gaze_anno_path, list_face_anno_path):\n",
    "    \n",
    "    with open(g_path) as f:\n",
    "        contents = f.readlines()\n",
    "    # gaze_anno += [content.strip().split(\" \") for content in contents]\n",
    "    gaze_anno.append([content.strip().split(\" \") for content in contents])\n",
    "    \n",
    "    with open(f_path) as f:\n",
    "        contents = f.readlines()\n",
    "    # face_anno += [content.strip().split(\" \") for content in contents]\n",
    "    face_anno.append([content.strip().split(\" \") for content in contents])"
   ]
  },
  {
   "cell_type": "code",
   "execution_count": 92,
   "id": "2b98057b",
   "metadata": {
    "hidden": true
   },
   "outputs": [
    {
     "name": "stdout",
     "output_type": "stream",
     "text": [
      "45000 37667\n"
     ]
    }
   ],
   "source": [
    "# print(len(gaze_anno), len(face_anno))"
   ]
  },
  {
   "cell_type": "code",
   "execution_count": 29,
   "id": "0f08474c",
   "metadata": {
    "hidden": true
   },
   "outputs": [
    {
     "name": "stdout",
     "output_type": "stream",
     "text": [
      "15 15\n"
     ]
    }
   ],
   "source": [
    "print(len(gaze_anno), len(face_anno))"
   ]
  },
  {
   "cell_type": "code",
   "execution_count": 81,
   "id": "a864d2b5",
   "metadata": {
    "hidden": true
   },
   "outputs": [
    {
     "name": "stdout",
     "output_type": "stream",
     "text": [
      "p00 \t 3000 \t 2927\n",
      "p01 \t 3000 \t 2904\n",
      "p02 \t 3000 \t 2916\n",
      "p03 \t 3000 \t 2929\n",
      "p04 \t 3000 \t 2860\n",
      "p05 \t 3000 \t 2870\n",
      "p06 \t 3000 \t 2877\n",
      "p07 \t 3000 \t 2843\n",
      "p08 \t 3000 \t 2767\n",
      "p09 \t 3000 \t 2719\n",
      "p10 \t 3000 \t 2194\n",
      "p11 \t 3000 \t 2262\n",
      "p12 \t 3000 \t 1601\n",
      "p13 \t 3000 \t 1498\n",
      "p14 \t 3000 \t 1500\n"
     ]
    }
   ],
   "source": [
    "for i in range(len(gaze_anno)):\n",
    "    print(\"p{:02d}\".format(i), '\\t', len(gaze_anno[i]), '\\t', len(face_anno[i]))"
   ]
  },
  {
   "cell_type": "code",
   "execution_count": 91,
   "id": "79ec2790",
   "metadata": {
    "hidden": true
   },
   "outputs": [],
   "source": [
    "gaze_day = []\n",
    "face_day = []\n",
    "\n",
    "for i in range(len(gaze_anno)):\n",
    "    gaze_day.append([gaze_anno[i][j][0] for j in range(len(gaze_anno[i]))])\n",
    "    face_day.append([face_anno[i][j][0] for j in range(len(face_anno[i]))])\n",
    "    \n",
    "    gaze_day[-1].sort()\n",
    "    face_day[-1].sort()"
   ]
  },
  {
   "cell_type": "code",
   "execution_count": 93,
   "id": "a72a12a1",
   "metadata": {
    "hidden": true
   },
   "outputs": [
    {
     "name": "stdout",
     "output_type": "stream",
     "text": [
      "p00 \t 3000 → 2927 \t 2927 → 2927\n",
      "p01 \t 3000 → 2904 \t 2904 → 2904\n",
      "p02 \t 3000 → 2916 \t 2916 → 2916\n",
      "p03 \t 3000 → 2929 \t 2929 → 2929\n",
      "p04 \t 3000 → 2860 \t 2860 → 2860\n",
      "p05 \t 3000 → 2870 \t 2870 → 2870\n",
      "p06 \t 3000 → 2877 \t 2877 → 2877\n",
      "p07 \t 3000 → 2843 \t 2843 → 2843\n",
      "p08 \t 3000 → 2767 \t 2767 → 2767\n",
      "p09 \t 3000 → 2719 \t 2719 → 2719\n",
      "p10 \t 3000 → 2194 \t 2194 → 2194\n",
      "p11 \t 3000 → 2262 \t 2262 → 2262\n",
      "p12 \t 3000 → 1601 \t 1601 → 1601\n",
      "p13 \t 3000 → 1498 \t 1498 → 1498\n",
      "p14 \t 3000 → 1500 \t 1500 → 1500\n"
     ]
    }
   ],
   "source": [
    "for i in range(len(gaze_anno)):\n",
    "    print(\"p{:02d}\".format(i), '\\t', len(gaze_anno[i]), '→', len(set(gaze_day[i])), \n",
    "                               '\\t', len(face_anno[i]), '→', len(set(face_day[i])))"
   ]
  },
  {
   "cell_type": "markdown",
   "id": "e70625e6",
   "metadata": {},
   "source": [
    "### Read annotation file based on MPIIFaceGaze"
   ]
  },
  {
   "cell_type": "markdown",
   "id": "36f76e3e",
   "metadata": {
    "heading_collapsed": true
   },
   "source": [
    "#### By modeling (non completion)"
   ]
  },
  {
   "cell_type": "code",
   "execution_count": null,
   "id": "91bd3550",
   "metadata": {
    "hidden": true
   },
   "outputs": [],
   "source": [
    "list_dir = [root+x for x in os.listdir(root) if os.path.isdir(root+x)]\n",
    "\n",
    "list_img_path = []\n",
    "list_cal_path = []\n",
    "list_moniter_size = []\n",
    "\n",
    "for pcp in list_dir: # pcp: participant\n",
    "    list_img_path.append([])\n",
    "    \n",
    "    for day in os.listdir(pcp):\n",
    "        path = pcp + '/' + day\n",
    "        \n",
    "        if day[0] == 'd':            \n",
    "            for file in os.listdir(path):\n",
    "                list_img_path[-1].append(path + '/' + file)\n",
    "                \n",
    "        elif day[0] == 'C':\n",
    "            mat_file = io.loadmat(path + \"/screenSize.mat\")\n",
    "            h_pixel = np.squeeze(mat_file[\"height_pixel\"])\n",
    "            w_pixel = np.squeeze(mat_file[\"width_pixel\"])\n",
    "            list_moniter_size.append(np.array((int(w_pixel), int(h_pixel))))\n",
    "                \n",
    "        elif os.path.isfile(path):\n",
    "            list_cal_path.append(path)\n",
    "            \n",
    "\n",
    "list_cal = []\n",
    "for file in list_cal_path:\n",
    "    list_cal.append(pd.read_csv(file, header=None, sep=' '))"
   ]
  },
  {
   "cell_type": "code",
   "execution_count": 5,
   "id": "966aa7be",
   "metadata": {
    "hidden": true
   },
   "outputs": [
    {
     "data": {
      "text/plain": [
       "['../../data/MPIIFaceGaze/p00/p00.txt',\n",
       " '../../data/MPIIFaceGaze/p01/p01.txt',\n",
       " '../../data/MPIIFaceGaze/p02/p02.txt',\n",
       " '../../data/MPIIFaceGaze/p03/p03.txt',\n",
       " '../../data/MPIIFaceGaze/p04/p04.txt',\n",
       " '../../data/MPIIFaceGaze/p05/p05.txt',\n",
       " '../../data/MPIIFaceGaze/p06/p06.txt',\n",
       " '../../data/MPIIFaceGaze/p07/p07.txt',\n",
       " '../../data/MPIIFaceGaze/p08/p08.txt',\n",
       " '../../data/MPIIFaceGaze/p09/p09.txt',\n",
       " '../../data/MPIIFaceGaze/p10/p10.txt',\n",
       " '../../data/MPIIFaceGaze/p11/p11.txt',\n",
       " '../../data/MPIIFaceGaze/p12/p12.txt',\n",
       " '../../data/MPIIFaceGaze/p13/p13.txt',\n",
       " '../../data/MPIIFaceGaze/p14/p14.txt']"
      ]
     },
     "execution_count": 5,
     "metadata": {},
     "output_type": "execute_result"
    }
   ],
   "source": [
    "list_dir = [root+x for x in os.listdir(root) if os.path.isdir(root+x)]\n",
    "list_face_anno_path = [list_dir[i]+ '/' + list_dir[i].split('/')[-1] + \".txt\" for i in range(len(list_dir))]\n",
    "list_face_anno_path"
   ]
  },
  {
   "cell_type": "code",
   "execution_count": 14,
   "id": "3b94f57d",
   "metadata": {
    "collapsed": true,
    "hidden": true
   },
   "outputs": [
    {
     "name": "stdout",
     "output_type": "stream",
     "text": [
      "0 \n",
      " 1    1278\n",
      "2     799\n",
      "dtype: object \n",
      "\n",
      "1 \n",
      " 1    1439\n",
      "2     899\n",
      "dtype: object \n",
      "\n",
      "2 \n",
      " 1    2809\n",
      "2     910\n",
      "dtype: object \n",
      "\n",
      "3 \n",
      " 1    1439\n",
      "2     899\n",
      "dtype: object \n",
      "\n",
      "4 \n",
      " 1    1279\n",
      "2     799\n",
      "dtype: object \n",
      "\n",
      "5 \n",
      " 1    1439\n",
      "2     898\n",
      "dtype: object \n",
      "\n",
      "6 \n",
      " 1    1678\n",
      "2    1049\n",
      "dtype: object \n",
      "\n",
      "7 \n",
      " 1    1906\n",
      "2    1079\n",
      "dtype: object \n",
      "\n",
      "8 \n",
      " 1    1438\n",
      "2     899\n",
      "dtype: object \n",
      "\n",
      "9 \n",
      " 1    1439\n",
      "2     899\n",
      "dtype: object \n",
      "\n",
      "10 \n",
      " 1    3035\n",
      "2    1157\n",
      "dtype: object \n",
      "\n",
      "11 \n",
      " 1    1279\n",
      "2     799\n",
      "dtype: object \n",
      "\n",
      "12 \n",
      " 1    1278\n",
      "2     798\n",
      "dtype: object \n",
      "\n",
      "13 \n",
      " 1    1279\n",
      "2     799\n",
      "dtype: object \n",
      "\n",
      "14 \n",
      " 1    1438\n",
      "2     899\n",
      "dtype: object \n",
      "\n"
     ]
    }
   ],
   "source": [
    "# 모니터 x, y 길이 확인\n",
    "list_anno = []\n",
    "\n",
    "for path in list_face_anno_path:\n",
    "    list_anno.append(pd.read_table(path, sep=' ', header=None))\n",
    "\n",
    "for i in range(len(list_anno)):\n",
    "    print(i, '\\n', list_anno[i].max()[1:3], '\\n')"
   ]
  },
  {
   "cell_type": "code",
   "execution_count": 18,
   "id": "bde345ca",
   "metadata": {
    "hidden": true
   },
   "outputs": [
    {
     "data": {
      "text/plain": [
       "0        695\n",
       "1        713\n",
       "2        863\n",
       "3        584\n",
       "4        292\n",
       "        ... \n",
       "2189     810\n",
       "2190     223\n",
       "2191     440\n",
       "2192    1298\n",
       "2193     135\n",
       "Name: 1, Length: 2194, dtype: int64"
      ]
     },
     "execution_count": 18,
     "metadata": {},
     "output_type": "execute_result"
    }
   ],
   "source": [
    "list_anno[10][1]"
   ]
  },
  {
   "cell_type": "markdown",
   "id": "f26fb707",
   "metadata": {},
   "source": [
    "#### By coding"
   ]
  },
  {
   "cell_type": "markdown",
   "id": "3e0c2cd3",
   "metadata": {},
   "source": [
    "##### convert_mpii_3To2"
   ]
  },
  {
   "cell_type": "markdown",
   "id": "bc5e1081",
   "metadata": {},
   "source": [
    "로드리그의 회전 공식: https://darkpgmr.tistory.com/99"
   ]
  },
  {
   "cell_type": "markdown",
   "id": "9d301a6a",
   "metadata": {
    "heading_collapsed": true
   },
   "source": [
    "###### data_processing_mpii_face_3D\n",
    "참고: http://phi-ai.buaa.edu.cn/Gazehub/3D-dataset/#mpiifacegaze"
   ]
  },
  {
   "cell_type": "code",
   "execution_count": 3,
   "id": "c39f80a6",
   "metadata": {
    "hidden": true
   },
   "outputs": [
    {
     "data": {
      "text/plain": [
       "['../../data/MPIIFaceGaze/p00/p00.txt',\n",
       " '../../data/MPIIFaceGaze/p01/p01.txt',\n",
       " '../../data/MPIIFaceGaze/p02/p02.txt',\n",
       " '../../data/MPIIFaceGaze/p03/p03.txt',\n",
       " '../../data/MPIIFaceGaze/p04/p04.txt',\n",
       " '../../data/MPIIFaceGaze/p05/p05.txt',\n",
       " '../../data/MPIIFaceGaze/p06/p06.txt',\n",
       " '../../data/MPIIFaceGaze/p07/p07.txt',\n",
       " '../../data/MPIIFaceGaze/p08/p08.txt',\n",
       " '../../data/MPIIFaceGaze/p09/p09.txt',\n",
       " '../../data/MPIIFaceGaze/p10/p10.txt',\n",
       " '../../data/MPIIFaceGaze/p11/p11.txt',\n",
       " '../../data/MPIIFaceGaze/p12/p12.txt',\n",
       " '../../data/MPIIFaceGaze/p13/p13.txt',\n",
       " '../../data/MPIIFaceGaze/p14/p14.txt']"
      ]
     },
     "execution_count": 3,
     "metadata": {},
     "output_type": "execute_result"
    }
   ],
   "source": [
    "pathList_person_dir = [root+x for x in os.listdir(root) if os.path.isdir(root+x)]\n",
    "pathList_anno = [p + '/' + p[-3:] + '.txt' for p in pathList_person_dir]\n",
    "pathList_anno"
   ]
  },
  {
   "cell_type": "code",
   "execution_count": 6,
   "id": "0d103c58",
   "metadata": {
    "hidden": true
   },
   "outputs": [],
   "source": [
    "def AnnoDecode(anno_info):\n",
    "    annotation = np.array(anno_info).astype(\"float32\")\n",
    "    out = {}\n",
    "    \n",
    "    out[\"left_left_corner\"] = annotation[2:4]\n",
    "    out[\"left_right_corner\"] = annotation[4:6]\n",
    "    out[\"right_left_corner\"] = annotation[6:8]\n",
    "    out[\"right_right_corner\"] = annotation[8:10]\n",
    "    out[\"headrotvectors\"] = annotation[14:17]\n",
    "    out[\"headtransvectors\"] = annotation[17:20]\n",
    "    out[\"facecenter\"] = annotation[20:23]\n",
    "    out[\"target\"] = annotation[23:26]\n",
    "    \n",
    "    return out"
   ]
  },
  {
   "cell_type": "code",
   "execution_count": 17,
   "id": "fc8f97ea",
   "metadata": {
    "hidden": true
   },
   "outputs": [],
   "source": [
    "class __norm:\n",
    "    def __init__(self, center, gazetarget, headrotvec, imgsize, camparams, newfocal=960, newdistance=600):\n",
    "        try:\n",
    "            self.center = np.array(center)\n",
    "            self.headrotvec = np.array(headrotvec)\n",
    "            self.target = np.array(gazetarget)\n",
    "            self.imgsize = np.array(imgsize)\n",
    "            self.cameraparams = np.array(camparams)\n",
    "        except:\n",
    "            print(\"There are some errors in inputs\")\n",
    "            exit()\n",
    "            \n",
    "        self.newfocal = newfocal \n",
    "        self.newdistance = newdistance\n",
    "        self.curdistance = np.linalg.norm(self.center)\n",
    "   \n",
    "        self.__assertion() # To make sure the correctness of inputs.\n",
    "    \n",
    "        if self.headrotvec.shape == (3,):\n",
    "            self.headrotvec = cv2.Rodrigues(self.headrotvec)[0]\n",
    "\n",
    "        self.__ParamsCalculate() # To calculate and save some required params.\n",
    "\n",
    "\n",
    "    def __assertion(self):\n",
    "        assert self.center.shape == (3,), print(\"Center's Pattern Must Be [x, y, z].\")\n",
    "        assert self.headrotvec.shape == (3,) or self.headrotvec.shape == (3,3), print(\"rotvec's Patttern Must Be [x, y, z] or 3*3 Mat.\")\n",
    "        assert self.target.shape == (3,), print(\"Target's Pattern Must Be [x, y, z].\")\n",
    "        assert self.imgsize.shape == (2,), print(\"Imgsize's Pattern Must Be [x, y].\")\n",
    "        assert self.cameraparams.shape == (3,3), print(\"CamParams's Pattern Must Be 3*3 Mat.\")\n",
    "        assert type(self.newfocal) == int or type(self.newfocal) == float, print (\"New focal must be int or float.\")\n",
    "        assert type(self.newdistance) == int or type(self.newdistance) == float, print(\"New distance must be int or float.\")\n",
    "\n",
    "        \n",
    "    def __ParamsCalculate(self):\n",
    "        #  Matrix: S, R, M=S*R, C_n, W=C_n*M*(C)^-1\n",
    "        #  Also provide gaze vec and head rotation matrix \n",
    "        self.S_mat = np.array([[1,0,0], [0,1,0], [0,0, self.newdistance/self.curdistance]])\n",
    "        xaxis = self.headrotvec[:,0]\n",
    "        z = self.center / self.curdistance\n",
    "        y = np.cross(z, xaxis)\n",
    "        y = y /np.linalg.norm(y)\n",
    "        x = np.cross(y, z)\n",
    "        x = x/np.linalg.norm(x)\n",
    "\n",
    "        self.R_mat = np.array([x,y,z])\n",
    "        self.C_mat = np.array([[self.newfocal, 0, self.imgsize[0]/2], [0, self.newfocal, self.imgsize[1]/2], [0, 0, 1]])\n",
    "        self.M_mat = np.dot(self.S_mat, self.R_mat)\n",
    "        self.W_mat = np.dot(np.dot(self.C_mat, self.M_mat), np.linalg.inv(self.cameraparams))\n",
    "        self.gaze = self.target - self.center\n",
    "        \n",
    "        \n",
    "    def GetImage(self, image):\n",
    "        self.img = cv2.warpPerspective(image, self.W_mat, (int(self.imgsize[0]), int(self.imgsize[1])))\n",
    "        return self.img\n",
    "    \n",
    "\n",
    "    def GetGaze(self, scale=True):\n",
    "        if scale:\n",
    "            gaze = np.dot(self.M_mat, self.gaze)\n",
    "            gaze = gaze / np.linalg.norm(gaze)\n",
    "        else:\n",
    "            gaze = np.dot(self.R_mat, self.gaze)\n",
    "            gaze = gaze / np.linalg.norm(gaze)\n",
    "\n",
    "        return gaze\n",
    "    \n",
    "\n",
    "    def GetHeadRot(self, vector=True):\n",
    "        if vector:\n",
    "            return cv2.Rodrigues(np.dot(self.M_mat, self.headrotvec))[0].T[0]\n",
    "        else:\n",
    "            return np.dot(self.M_mat, self.headrotvec)\n",
    "    \n",
    "\n",
    "    def GetCoordinate(self, coordinate):\n",
    "        coordinate = np.reshape(coordinate, (3,1))\n",
    "        return np.dot(self.M_mat, coordinate).flatten()\n",
    "    \n",
    "    \n",
    "    def GetParams(self):\n",
    "        rvec = cv2.Rodrigues(self.R_mat)[0].flatten()\n",
    "        svec = np.diagonal(self.S_mat)\n",
    "        return rvec, svec\n",
    "    "
   ]
  },
  {
   "cell_type": "code",
   "execution_count": 20,
   "id": "e32e5d6c",
   "metadata": {
    "hidden": true
   },
   "outputs": [],
   "source": [
    "def GazeFlip(gaze):\n",
    "    newgaze = np.zeros([3])\n",
    "    newgaze[0] = -gaze[0]\n",
    "    newgaze[1] = gaze[1]\n",
    "    newgaze[2] = gaze[2]\n",
    "    return newgaze\n",
    "\n",
    "def HeadFlip(head):\n",
    "    rot_vec = np.array(head)\n",
    "    assert head.shape == (3,), f\"The shape of headrotvec must be (3,), which is {head.shape} currently.\"\n",
    "\n",
    "    rot_mat = cv2.Rodrigues(rot_vec)[0]\n",
    "    z = rot_mat[:, 2]\n",
    "    y = rot_mat[:, 1]\n",
    "\n",
    "    z[0] = -z[0]\n",
    "    x = np.cross(y, z)\n",
    "    \n",
    "    newrot_mat = np.array([x,y,z])\n",
    "    newrot_vec = cv2.Rodrigues(rot_mat)[0].T[0]\n",
    "    return newrot_vec\n",
    "\n",
    "def GazeTo2d(gaze):\n",
    "    yaw = np.arctan2(-gaze[0], -gaze[2])\n",
    "    pitch = np.arcsin(-gaze[1])\n",
    "    return np.array([yaw, pitch])\n",
    "\n",
    "def HeadTo2d(head):\n",
    "    assert np.array(head).shape == (3,), f\"The shape of headrotmatrix must be (3,), which is {np.array(head).shape} currently\"\n",
    "    M = cv2.Rodrigues(head)[0]\n",
    "    print(M, end=\"-----\")\n",
    "    vec = M[:, 2]\n",
    "    pitch = np.arcsin(vec[1])\n",
    "    yaw = np.arctan2(vec[0], vec[2])\n",
    "    return np.array([yaw, pitch])"
   ]
  },
  {
   "cell_type": "code",
   "execution_count": 21,
   "id": "0b337c3e",
   "metadata": {
    "hidden": true
   },
   "outputs": [
    {
     "name": "stdout",
     "output_type": "stream",
     "text": [
      "[[ 9.99999743e-01 -7.17001259e-04 -1.21904982e-16]\n",
      " [ 7.04371828e-04  9.82385510e-01  1.86864160e-01]\n",
      " [-1.33981838e-04 -1.86864112e-01  9.82385762e-01]]-----"
     ]
    }
   ],
   "source": [
    "for path in pathList_person_dir:\n",
    "    anno_path = path + '/' + path[-3:] + '.txt'\n",
    "    \n",
    "    # Read camera matrix\n",
    "    camera = sio.loadmat(path + '/Calibration/Camera.mat')\n",
    "    camera = camera[\"cameraMatrix\"]\n",
    "    \n",
    "    # Read gaze annotation\n",
    "    with open(anno_path) as file:\n",
    "        anno_info = file.readlines()\n",
    "        total = len(anno_info)\n",
    "    annotation = [content.strip().split(\" \") for content in anno_info]\n",
    "    \n",
    "    # Image Processing \n",
    "    for count, info in enumerate(annotation):\n",
    "        # Read image info\n",
    "        img_info = info[0]\n",
    "        which_eye = info[-1]\n",
    "        day, img_name = img_info.split(\"/\")\n",
    "        img_number = int(img_name.split(\".\")[0])\n",
    "\n",
    "        # Read image annotation and image\n",
    "        img_path = os.path.join(path, day, img_name)\n",
    "\n",
    "        img = cv2.imread(img_path)\n",
    "        anno = info[1:-1]\n",
    "        anno = AnnoDecode(anno) \n",
    "        origin = anno[\"facecenter\"]\n",
    "\n",
    "        # Normalize the image\n",
    "        norm = __norm(center = anno[\"facecenter\"],\n",
    "                      gazetarget = anno [\"target\"],\n",
    "                      headrotvec = anno[\"headrotvectors\"],\n",
    "                      imgsize = (224, 224),\n",
    "                      camparams = camera)\n",
    "\n",
    "        img_face = norm.GetImage(img)\n",
    " \n",
    "        # Acquire essential info\n",
    "        gaze = norm.GetGaze(scale=True)\n",
    "        head = norm.GetHeadRot(vector=True)\n",
    "        origin = norm.GetCoordinate(anno[\"facecenter\"])\n",
    "        rvec, svec = norm.GetParams()\n",
    "        \n",
    "        # flip the images when it is right eyes\n",
    "        if which_eye == \"left\":\n",
    "            pass\n",
    "        elif which_eye == \"right\":\n",
    "            gaze = GazeFlip(gaze)\n",
    "            head = HeadFlip(head)\n",
    "            origin[0] = -origin[0]\n",
    "\n",
    "        gaze_2d = GazeTo2d(gaze)\n",
    "        head_2d = HeadTo2d(head)\n",
    "        break\n",
    "    \n",
    "    break"
   ]
  },
  {
   "cell_type": "markdown",
   "id": "7cbf654f",
   "metadata": {},
   "source": [
    "###### 적용 code"
   ]
  },
  {
   "cell_type": "code",
   "execution_count": 96,
   "id": "0a62d7ad",
   "metadata": {},
   "outputs": [],
   "source": [
    "def getYawPitch_from_3Dcoordinate(headRotVec, faceCenter, gt3D, whichEye):\n",
    "    assert headRotVec.shape == (3,) or self.headrotvec.shape == (3,3), print(\"Rotvec's Patttern Must Be [x, y, z] or 3*3 Mat.\")\n",
    "    assert faceCenter.shape == (3,), print(\"Facecenter's Pattern Must Be [x, y, z].\")\n",
    "    assert gt3D.shape == (3,), print(\"Gt_3D's Pattern Must Be [x, y, z].\")\n",
    "    \n",
    "    if headRotVec.shape == (3,):\n",
    "        headRotVec = cv2.Rodrigues(headRotVec)[0] # 로드리그의 회전 공식\n",
    "    \n",
    "    newDistance = 600\n",
    "    curDistance = np.linalg.norm(faceCenter)\n",
    "\n",
    "    #  Matrix: S, R, M=S*R, C_n, W=C_n*M*(C)^-1\n",
    "    #  Also provide gaze vec and head rotation matrix\n",
    "    \n",
    "    xaxis = headRotVec[:,0]\n",
    "    z = faceCenter / curDistance\n",
    "    y = np.cross(z, xaxis)\n",
    "    y = y / np.linalg.norm(y)\n",
    "    x = np.cross(y, z)\n",
    "    x = x / np.linalg.norm(x)\n",
    "    \n",
    "    mat_S = np.array([[1,0,0], [0,1,0], [0,0, newDistance/curDistance]])\n",
    "    mat_R = np.array([x, y, z])\n",
    "    mat_M = np.dot(mat_S, mat_R)\n",
    "    \n",
    "    # Get gaze\n",
    "    gaze = gt_3D - faceCenter\n",
    "    gaze = np.dot(mat_M, gaze)\n",
    "    gaze = gaze / np.linalg.norm(gaze)\n",
    "    \n",
    "    # Gaze flip (when right,)\n",
    "    if whichEye:\n",
    "        gaze[0] = -gaze[0]\n",
    "    \n",
    "    # Gaze to yaw-pitch\n",
    "    yaw = np.arctan2(-gaze[0], -gaze[2])\n",
    "    pitch = np.arcsin(-gaze[1])\n",
    "    \n",
    "    return yaw, pitch"
   ]
  },
  {
   "cell_type": "code",
   "execution_count": 157,
   "id": "7ecdeccd",
   "metadata": {},
   "outputs": [],
   "source": [
    "featureTxtFile = open(\"../feature.txt\", 'w')\n",
    "\n",
    "featureTxtFile.write(\"FilePath \")\n",
    "for i in range(4, 28): # Original Features D04 ~ D27\n",
    "    featureTxtFile.write(\"OF_d{:02d} \".format(i))    \n",
    "featureTxtFile.write(\"WhichEye Yaw Pitch X Y\\n\")\n",
    "\n",
    "\n",
    "for path in pathList_person_dir:\n",
    "    \n",
    "    # Read gaze annotation\n",
    "    anno_path = path + '/' + path[-3:] + \".txt\"    \n",
    "    with open(anno_path) as file:\n",
    "        anno_info = file.readlines()\n",
    "    annotation = [content.strip().split(' ') for content in anno_info]\n",
    "    \n",
    "    # Image Processing \n",
    "    for anno in annotation:\n",
    "        file_path = path[-3:] + '/' + anno[0]\n",
    "        originFeatures = ' '.join(anno[3:-1])\n",
    "        \n",
    "        headRotVec = np.array(anno[15:18]).astype(\"float32\")\n",
    "        faceCenter = np.array(anno[21:24]).astype(\"float32\")\n",
    "        gt_3D = np.array(anno[24:27]).astype(\"float32\")\n",
    "        \n",
    "        if anno[-1] == \"left\":\n",
    "            whichEye = 0\n",
    "        elif anno[-1] == \"right\":\n",
    "            whichEye = 1\n",
    "            \n",
    "        yaw, pitch = getYawPitch_from_3Dcoordinate(headRotVec, faceCenter, gt_3D, whichEye)        \n",
    "        target = ' '.join(anno[1:3]) # Gaze location on the screen coordinate in pixels\n",
    "        \n",
    "        write_str = ' '.join([file_path, originFeatures, str(whichEye), str(yaw), str(pitch), target])\n",
    "        featureTxtFile.write(write_str + '\\n')\n",
    "        \n",
    "featureTxtFile.close()"
   ]
  }
 ],
 "metadata": {
  "kernelspec": {
   "display_name": "gaze",
   "language": "python",
   "name": "gaze"
  },
  "language_info": {
   "codemirror_mode": {
    "name": "ipython",
    "version": 3
   },
   "file_extension": ".py",
   "mimetype": "text/x-python",
   "name": "python",
   "nbconvert_exporter": "python",
   "pygments_lexer": "ipython3",
   "version": "3.8.12"
  }
 },
 "nbformat": 4,
 "nbformat_minor": 5
}
